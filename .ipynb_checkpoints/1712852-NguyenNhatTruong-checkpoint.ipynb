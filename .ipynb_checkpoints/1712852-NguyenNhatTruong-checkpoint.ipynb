{
 "cells": [
  {
   "cell_type": "markdown",
   "metadata": {},
   "source": [
    "Lớp **Lập trình cho Khoa học dữ liệu - 17/21**  \n",
    "Học kì II, 2019 - 2020"
   ]
  },
  {
   "cell_type": "markdown",
   "metadata": {},
   "source": [
    "---"
   ]
  },
  {
   "cell_type": "markdown",
   "metadata": {},
   "source": [
    "<br>\n",
    "<center><b><font size=\"10\">ĐỒ ÁN CUỐI KÌ</font></b></center>\n",
    "\n",
    "**Họ tên:** Nguyễn Nhật Trường\n",
    "\n",
    "**MSSV:** 1712852"
   ]
  },
  {
   "cell_type": "markdown",
   "metadata": {},
   "source": [
    "---"
   ]
  },
  {
   "cell_type": "markdown",
   "metadata": {},
   "source": [
    "## Import"
   ]
  },
  {
   "cell_type": "code",
   "execution_count": 1,
   "metadata": {},
   "outputs": [],
   "source": [
    "%matplotlib inline\n",
    "import matplotlib.pyplot as plt\n",
    "import pandas as pd\n",
    "import numpy as np"
   ]
  },
  {
   "cell_type": "markdown",
   "metadata": {},
   "source": [
    "---"
   ]
  },
  {
   "cell_type": "markdown",
   "metadata": {},
   "source": [
    "## Lấy dữ liệu"
   ]
  },
  {
   "cell_type": "markdown",
   "metadata": {},
   "source": [
    "Dữ liệu được dùng trong đồ án có nguồn tại đây: [Vietnam COVID-19 patient dataset](https://www.kaggle.com/nhntran/vietnam-covid19-patient-dataset) trên Kaggle. Trong đó, file dữ liệu chính được sử dụng là file *\\\"Vietnam_COVID-19_patient_data_May10_2020.csv\\\"*, ghi nhận thông tin của các bệnh nhân nhiễm COVID-19 tại Việt Nam. Dữ liệu được cập nhật lần cuối vào ngày 10/05/2020.\n",
    "\n",
    "Theo lời tác giả, đây là công trình cá nhân và toàn bộ dữ liệu được thu thập thông qua website chính thức của Bộ Y tế (https://ncov.moh.gov.vn/) và truyền thông Việt Nam."
   ]
  },
  {
   "cell_type": "markdown",
   "metadata": {},
   "source": [
    "---"
   ]
  },
  {
   "cell_type": "markdown",
   "metadata": {},
   "source": [
    "## Khám phá dữ liệu"
   ]
  },
  {
   "cell_type": "markdown",
   "metadata": {},
   "source": [
    "### Đọc dữ liệu từ file csv vào dataframe"
   ]
  },
  {
   "cell_type": "code",
   "execution_count": 2,
   "metadata": {},
   "outputs": [
    {
     "data": {
      "text/html": [
       "<div>\n",
       "<style scoped>\n",
       "    .dataframe tbody tr th:only-of-type {\n",
       "        vertical-align: middle;\n",
       "    }\n",
       "\n",
       "    .dataframe tbody tr th {\n",
       "        vertical-align: top;\n",
       "    }\n",
       "\n",
       "    .dataframe thead th {\n",
       "        text-align: right;\n",
       "    }\n",
       "</style>\n",
       "<table border=\"1\" class=\"dataframe\">\n",
       "  <thead>\n",
       "    <tr style=\"text-align: right;\">\n",
       "      <th></th>\n",
       "      <th>ID</th>\n",
       "      <th>Gender</th>\n",
       "      <th>Age</th>\n",
       "      <th>Nationality</th>\n",
       "      <th>Detection Location</th>\n",
       "      <th>Treatment Location</th>\n",
       "      <th>Hospital</th>\n",
       "      <th>Confirmed Date</th>\n",
       "      <th>Travel History</th>\n",
       "      <th>Travel Country</th>\n",
       "      <th>...</th>\n",
       "      <th>Discharged Date</th>\n",
       "      <th>Re-Infected</th>\n",
       "      <th>Re-discharged</th>\n",
       "      <th>Reference 1</th>\n",
       "      <th>Reference 2</th>\n",
       "      <th>Reference 3</th>\n",
       "      <th>Reference 4</th>\n",
       "      <th>Reference 5</th>\n",
       "      <th>Note</th>\n",
       "      <th>Number of negative test before discharged</th>\n",
       "    </tr>\n",
       "  </thead>\n",
       "  <tbody>\n",
       "    <tr>\n",
       "      <td>0</td>\n",
       "      <td>BN1</td>\n",
       "      <td>M</td>\n",
       "      <td>66.0</td>\n",
       "      <td>China</td>\n",
       "      <td>Ho Chi Minh City</td>\n",
       "      <td>Ho Chi Minh City</td>\n",
       "      <td>Bệnh viện Chợ Rẫy</td>\n",
       "      <td>1/23/20</td>\n",
       "      <td>1</td>\n",
       "      <td>Wuhan(China)</td>\n",
       "      <td>...</td>\n",
       "      <td>2/12/20</td>\n",
       "      <td>NaN</td>\n",
       "      <td>NaN</td>\n",
       "      <td>https://vnexpress.net/dich-viem-phoi-corona/ha...</td>\n",
       "      <td>NaN</td>\n",
       "      <td>NaN</td>\n",
       "      <td>NaN</td>\n",
       "      <td>NaN</td>\n",
       "      <td>NaN</td>\n",
       "      <td>NaN</td>\n",
       "    </tr>\n",
       "    <tr>\n",
       "      <td>1</td>\n",
       "      <td>BN2</td>\n",
       "      <td>M</td>\n",
       "      <td>28.0</td>\n",
       "      <td>China</td>\n",
       "      <td>Ho Chi Minh City</td>\n",
       "      <td>Ho Chi Minh City</td>\n",
       "      <td>Bệnh viện Chợ Rẫy</td>\n",
       "      <td>1/23/20</td>\n",
       "      <td>0</td>\n",
       "      <td>NaN</td>\n",
       "      <td>...</td>\n",
       "      <td>2/4/20</td>\n",
       "      <td>NaN</td>\n",
       "      <td>NaN</td>\n",
       "      <td>NaN</td>\n",
       "      <td>NaN</td>\n",
       "      <td>NaN</td>\n",
       "      <td>NaN</td>\n",
       "      <td>NaN</td>\n",
       "      <td>NaN</td>\n",
       "      <td>NaN</td>\n",
       "    </tr>\n",
       "    <tr>\n",
       "      <td>2</td>\n",
       "      <td>BN3</td>\n",
       "      <td>F</td>\n",
       "      <td>25.0</td>\n",
       "      <td>Vietnam</td>\n",
       "      <td>Thanh Hoa</td>\n",
       "      <td>Thanh Hoa</td>\n",
       "      <td>Bệnh viện đa khoa tỉnh Thanh Hóa</td>\n",
       "      <td>1/30/20</td>\n",
       "      <td>1</td>\n",
       "      <td>Wuhan(China)</td>\n",
       "      <td>...</td>\n",
       "      <td>(Feb 2020, no exact date)</td>\n",
       "      <td>NaN</td>\n",
       "      <td>NaN</td>\n",
       "      <td>https://vnexpress.net/dich-viem-phoi-corona/ba...</td>\n",
       "      <td>NaN</td>\n",
       "      <td>NaN</td>\n",
       "      <td>NaN</td>\n",
       "      <td>NaN</td>\n",
       "      <td>NaN</td>\n",
       "      <td>NaN</td>\n",
       "    </tr>\n",
       "    <tr>\n",
       "      <td>3</td>\n",
       "      <td>BN4</td>\n",
       "      <td>M</td>\n",
       "      <td>29.0</td>\n",
       "      <td>Vietnam</td>\n",
       "      <td>Vinh Phuc</td>\n",
       "      <td>Vinh Phuc</td>\n",
       "      <td>Bệnh viện Bệnh Nhiệt đới Trung Ương (cơ sở Đôn...</td>\n",
       "      <td>1/30/20</td>\n",
       "      <td>1</td>\n",
       "      <td>Wuhan(China)</td>\n",
       "      <td>...</td>\n",
       "      <td>2/18/20</td>\n",
       "      <td>NaN</td>\n",
       "      <td>NaN</td>\n",
       "      <td>https://vnexpress.net/dich-viem-phoi-corona/ba...</td>\n",
       "      <td>https://vnexpress.net/suc-khoe/hai-benh-nhan-c...</td>\n",
       "      <td>https://bnews.vn/dich-do-virus-corona-them-2-b...</td>\n",
       "      <td>NaN</td>\n",
       "      <td>NaN</td>\n",
       "      <td>NaN</td>\n",
       "      <td>NaN</td>\n",
       "    </tr>\n",
       "    <tr>\n",
       "      <td>4</td>\n",
       "      <td>BN5</td>\n",
       "      <td>F</td>\n",
       "      <td>23.0</td>\n",
       "      <td>Vietnam</td>\n",
       "      <td>Vinh Phuc</td>\n",
       "      <td>Vinh Phuc</td>\n",
       "      <td>Bệnh viện Bệnh nhiệt đới Trung Ương (cơ sở 2)</td>\n",
       "      <td>1/30/20</td>\n",
       "      <td>1</td>\n",
       "      <td>Wuhan(China)</td>\n",
       "      <td>...</td>\n",
       "      <td>2/10/20</td>\n",
       "      <td>NaN</td>\n",
       "      <td>NaN</td>\n",
       "      <td>https://vnexpress.net/dich-viem-phoi-corona/ba...</td>\n",
       "      <td>NaN</td>\n",
       "      <td>NaN</td>\n",
       "      <td>NaN</td>\n",
       "      <td>NaN</td>\n",
       "      <td>NaN</td>\n",
       "      <td>NaN</td>\n",
       "    </tr>\n",
       "  </tbody>\n",
       "</table>\n",
       "<p>5 rows × 30 columns</p>\n",
       "</div>"
      ],
      "text/plain": [
       "    ID Gender   Age Nationality Detection Location Treatment Location  \\\n",
       "0  BN1      M  66.0       China   Ho Chi Minh City   Ho Chi Minh City   \n",
       "1  BN2      M  28.0       China   Ho Chi Minh City   Ho Chi Minh City   \n",
       "2  BN3      F  25.0     Vietnam          Thanh Hoa          Thanh Hoa   \n",
       "3  BN4      M  29.0     Vietnam          Vinh Phuc          Vinh Phuc   \n",
       "4  BN5      F  23.0     Vietnam          Vinh Phuc          Vinh Phuc   \n",
       "\n",
       "                                            Hospital Confirmed Date  \\\n",
       "0                                  Bệnh viện Chợ Rẫy        1/23/20   \n",
       "1                                  Bệnh viện Chợ Rẫy        1/23/20   \n",
       "2                   Bệnh viện đa khoa tỉnh Thanh Hóa        1/30/20   \n",
       "3  Bệnh viện Bệnh Nhiệt đới Trung Ương (cơ sở Đôn...        1/30/20   \n",
       "4      Bệnh viện Bệnh nhiệt đới Trung Ương (cơ sở 2)        1/30/20   \n",
       "\n",
       "   Travel History Travel Country  ...            Discharged Date Re-Infected  \\\n",
       "0               1   Wuhan(China)  ...                    2/12/20         NaN   \n",
       "1               0            NaN  ...                     2/4/20         NaN   \n",
       "2               1   Wuhan(China)  ...  (Feb 2020, no exact date)         NaN   \n",
       "3               1   Wuhan(China)  ...                    2/18/20         NaN   \n",
       "4               1   Wuhan(China)  ...                    2/10/20         NaN   \n",
       "\n",
       "  Re-discharged                                        Reference 1  \\\n",
       "0           NaN  https://vnexpress.net/dich-viem-phoi-corona/ha...   \n",
       "1           NaN                                                NaN   \n",
       "2           NaN  https://vnexpress.net/dich-viem-phoi-corona/ba...   \n",
       "3           NaN  https://vnexpress.net/dich-viem-phoi-corona/ba...   \n",
       "4           NaN  https://vnexpress.net/dich-viem-phoi-corona/ba...   \n",
       "\n",
       "                                         Reference 2  \\\n",
       "0                                                NaN   \n",
       "1                                                NaN   \n",
       "2                                                NaN   \n",
       "3  https://vnexpress.net/suc-khoe/hai-benh-nhan-c...   \n",
       "4                                                NaN   \n",
       "\n",
       "                                         Reference 3 Reference 4 Reference 5  \\\n",
       "0                                                NaN         NaN         NaN   \n",
       "1                                                NaN         NaN         NaN   \n",
       "2                                                NaN         NaN         NaN   \n",
       "3  https://bnews.vn/dich-do-virus-corona-them-2-b...         NaN         NaN   \n",
       "4                                                NaN         NaN         NaN   \n",
       "\n",
       "  Note Number of negative test before discharged  \n",
       "0  NaN                                       NaN  \n",
       "1  NaN                                       NaN  \n",
       "2  NaN                                       NaN  \n",
       "3  NaN                                       NaN  \n",
       "4  NaN                                       NaN  \n",
       "\n",
       "[5 rows x 30 columns]"
      ]
     },
     "execution_count": 2,
     "metadata": {},
     "output_type": "execute_result"
    }
   ],
   "source": [
    "main_df = pd.read_csv(\"Vietnam_COVID-19_patient_data_May10_2020.csv\")\n",
    "main_df.head()"
   ]
  },
  {
   "cell_type": "markdown",
   "metadata": {},
   "source": [
    "### Số dòng và số cột của dữ liệu"
   ]
  },
  {
   "cell_type": "markdown",
   "metadata": {},
   "source": [
    "Số dòng và số cột của dữ liệu sẽ được tính và lưu vào hai biến `num_rows` và `num_cols`."
   ]
  },
  {
   "cell_type": "code",
   "execution_count": 3,
   "metadata": {},
   "outputs": [
    {
     "name": "stdout",
     "output_type": "stream",
     "text": [
      "So dong: 288\n",
      "So cot: 30\n"
     ]
    }
   ],
   "source": [
    "num_rows = len(main_df)\n",
    "num_cols = len(main_df.columns)\n",
    "\n",
    "print('So dong: %d\\nSo cot: %d' %(num_rows, num_cols))"
   ]
  },
  {
   "cell_type": "markdown",
   "metadata": {},
   "source": [
    "### Ý nghĩa mỗi dòng và mỗi cột"
   ]
  },
  {
   "cell_type": "markdown",
   "metadata": {},
   "source": [
    "Dựa theo tên các cột dữ liệu, ta rút được các mô tả:\n",
    "- **ID**: mã số bệnh nhân.\n",
    "- **Gender**: giới tính bệnh nhân.\n",
    "- **Age**: tuổi bệnh nhân (tính đến ngày cuối tác giả cập nhật dữ liệu).\n",
    "- **Nationality**: quốc tịch bệnh nhân.\n",
    "- **Detection Location**: tỉnh/thành phố trực thuộc trung ương phát hiện bệnh nhân nhiễm bệnh.\n",
    "- **Treatment Location**: tỉnh/thành phố trực thuộc trung ương điều trị bệnh nhân.\n",
    "- **Hospital**: tên bệnh viện điều trị.\n",
    "- **Confirmed Date**: ngày xác nhận bệnh nhân nhiễm bệnh.\n",
    "- **Travel History**: bệnh nhân có hoặc không di chuyển/du lịch.\n",
    "- **Travel Country** & **Travel Country, Correct**: các quốc gia/khu vực bệnh nhân từng đi qua.\n",
    "- **Source of Infection**: nguồn lây nhiễm (từ bệnh nhân nào và cấp lây nhiễm).\n",
    "- **Relationship**: mối quan hệ với nguồn lây nhiễm (với bệnh nhân lây bệnh).\n",
    "- **Flight ID (Date)**: số hiệu và ngày xuất phát của chuyến bay của bệnh nhân.\n",
    "- **Infection Cluster**: khu vực bệnh nhân lây nhiễm.\n",
    "- **Health Condition When Confirmed**: tình trạng sức khỏe bệnh nhân khi xác nhận nhiễm bệnh.\n",
    "- **Detail Symptoms When Confirmed (clean up)** & **Detail Symptoms When Confirmed**: triệu chứng đã có khi xác nhận nhiễm.\n",
    "- **Developing Symptoms**: các triệu chứng xuất hiện thêm.\n",
    "- **Underlying Health Condition**: tiền sử bệnh của bệnh nhân.\n",
    "- **Discharged Date**: ngày bệnh nhân xuất viện.\n",
    "- **Re-Infected**: ngày bệnh nhân tái nhiễm.\n",
    "- **Re-discharged**: ngày bênh nhân xuất viện sau khi tái nhiễm.\n",
    "- **Reference 1**, **Reference 2**,... **Reference 5**: nguồn đưa tin xác nhận bệnh nhân nhiễm bệnh.\n",
    "- **Note**: ghi chú thêm.\n",
    "- **Number of negative test before discharged**: số phép thử âm tính trước khi bệnh nhân được xuất viện."
   ]
  },
  {
   "cell_type": "markdown",
   "metadata": {},
   "source": [
    "### Kiểu dữ liệu mỗi cột"
   ]
  },
  {
   "cell_type": "code",
   "execution_count": 4,
   "metadata": {},
   "outputs": [
    {
     "data": {
      "text/plain": [
       "ID                                            object\n",
       "Gender                                        object\n",
       "Age                                          float64\n",
       "Nationality                                   object\n",
       "Detection Location                            object\n",
       "Treatment Location                            object\n",
       "Hospital                                      object\n",
       "Confirmed Date                                object\n",
       "Travel History                                 int64\n",
       "Travel Country                                object\n",
       "Travel Country, Correct                       object\n",
       "Source of Infection                           object\n",
       "Relationship                                  object\n",
       "Flight ID (Date)                              object\n",
       "Infection Cluster                             object\n",
       "Health Condition When Confirmed               object\n",
       "Detail Symptoms When Confirmed (clean up)     object\n",
       "Detail Symptoms When Confirmed                object\n",
       "Developing Symptoms                           object\n",
       "Underlying Health Condition                   object\n",
       "Discharged Date                               object\n",
       "Re-Infected                                   object\n",
       "Re-discharged                                 object\n",
       "Reference 1                                   object\n",
       "Reference 2                                   object\n",
       "Reference 3                                   object\n",
       "Reference 4                                   object\n",
       "Reference 5                                   object\n",
       "Note                                          object\n",
       "Number of negative test before discharged     object\n",
       "dtype: object"
      ]
     },
     "execution_count": 4,
     "metadata": {},
     "output_type": "execute_result"
    }
   ],
   "source": [
    "def get_df_dtypes(df):\n",
    "    return df.dtypes\n",
    "\n",
    "get_df_dtypes(main_df)"
   ]
  },
  {
   "cell_type": "markdown",
   "metadata": {},
   "source": [
    "### Chuyển đổi kiểu dữ liệu object"
   ]
  },
  {
   "cell_type": "markdown",
   "metadata": {},
   "source": [
    "Ta xem xét kiểu dữ liệu thật sự của các cột có kiểu `object`:"
   ]
  },
  {
   "cell_type": "code",
   "execution_count": 5,
   "metadata": {},
   "outputs": [
    {
     "name": "stdout",
     "output_type": "stream",
     "text": [
      "ID {<class 'str'>}\n",
      "Gender {<class 'str'>}\n",
      "Nationality {<class 'str'>}\n",
      "Detection Location {<class 'str'>}\n",
      "Treatment Location {<class 'str'>}\n",
      "Hospital {<class 'str'>}\n",
      "Confirmed Date {<class 'str'>}\n",
      "Travel Country {<class 'float'>, <class 'str'>}\n",
      "Travel Country, Correct {<class 'float'>, <class 'str'>}\n",
      "Source of Infection {<class 'float'>, <class 'str'>}\n",
      "Relationship {<class 'float'>, <class 'str'>}\n",
      "Flight ID (Date) {<class 'float'>, <class 'str'>}\n",
      "Infection Cluster {<class 'float'>, <class 'str'>}\n",
      "Health Condition When Confirmed {<class 'str'>}\n",
      "Detail Symptoms When Confirmed (clean up) {<class 'float'>, <class 'str'>}\n",
      "Detail Symptoms When Confirmed {<class 'str'>}\n",
      "Developing Symptoms {<class 'float'>, <class 'str'>}\n",
      "Underlying Health Condition {<class 'float'>, <class 'str'>}\n",
      "Discharged Date {<class 'float'>, <class 'str'>}\n",
      "Re-Infected {<class 'float'>, <class 'str'>}\n",
      "Re-discharged {<class 'float'>, <class 'str'>}\n",
      "Reference 1 {<class 'float'>, <class 'str'>}\n",
      "Reference 2 {<class 'float'>, <class 'str'>}\n",
      "Reference 3 {<class 'float'>, <class 'str'>}\n",
      "Reference 4 {<class 'float'>, <class 'str'>}\n",
      "Reference 5 {<class 'float'>, <class 'str'>}\n",
      "Note {<class 'float'>, <class 'str'>}\n",
      "Number of negative test before discharged {<class 'float'>, <class 'str'>}\n"
     ]
    }
   ],
   "source": [
    "def open_object_dtype(s):\n",
    "    dtypes = set()\n",
    "    for i in s.index:\n",
    "        dtypes.add(type(s.iloc[i]))\n",
    "    return dtypes\n",
    "\n",
    "for col in main_df.columns:\n",
    "    if main_df[col].dtypes == object:\n",
    "        print(col, open_object_dtype(main_df[col]))"
   ]
  },
  {
   "cell_type": "markdown",
   "metadata": {},
   "source": [
    "- Các cột có kiểu dữ liệu hầu hết là chuỗi, (các cột có `float` là do ứng với thành phần `NaN`).  \n",
    "- Các cột có kiểu dữ liệu ngày tháng cũng thuộc kiểu `object`, tuy nhiên, chỉ có các cột `Confirmed Date`, `Re-Infected` và `Re-discharged` là có các dòng chứa ngày tháng theo định dạng `%m/%d/%y`.  Còn lại, cột `Discharged Date` có dòng chứa chuỗi xen lẫn.\n",
    "- Cột `Gender` chỉ chứa hai phần tử `M` và `F` ứng với *male* (nam) và *female* (nữ). Ta có thể chuyển cột này về kiểu `boolean` (hoặc `int`) với hai giá trị thay thế là `0` và `1`.\n",
    "\n",
    "Do đó, ta cần chuyển cột `Confirmed Date` sang dạng `datetime` và cột `Gender` sang `int` theo quy tắc `M` = `0`, `F` = `1`."
   ]
  },
  {
   "cell_type": "code",
   "execution_count": 6,
   "metadata": {},
   "outputs": [],
   "source": [
    "main_df['Confirmed Date'] = pd.to_datetime(main_df['Confirmed Date'], format=\"%m/%d/%y\")\n",
    "main_df['Re-Infected'] = pd.to_datetime(main_df['Re-Infected'], format=\"%m/%d/%y\")\n",
    "main_df['Re-discharged'] = pd.to_datetime(main_df['Re-discharged'], format=\"%m/%d/%y\")\n",
    "\n",
    "main_df.loc[main_df['Gender'] == 'M', 'Gender'] = 0\n",
    "main_df.loc[main_df['Gender'] == 'F', 'Gender'] = 1\n",
    "main_df['Gender'] = main_df['Gender'].astype(int)"
   ]
  },
  {
   "cell_type": "code",
   "execution_count": 7,
   "metadata": {},
   "outputs": [
    {
     "data": {
      "text/plain": [
       "ID                                                   object\n",
       "Gender                                                int32\n",
       "Age                                                 float64\n",
       "Nationality                                          object\n",
       "Detection Location                                   object\n",
       "Treatment Location                                   object\n",
       "Hospital                                             object\n",
       "Confirmed Date                               datetime64[ns]\n",
       "Travel History                                        int64\n",
       "Travel Country                                       object\n",
       "Travel Country, Correct                              object\n",
       "Source of Infection                                  object\n",
       "Relationship                                         object\n",
       "Flight ID (Date)                                     object\n",
       "Infection Cluster                                    object\n",
       "Health Condition When Confirmed                      object\n",
       "Detail Symptoms When Confirmed (clean up)            object\n",
       "Detail Symptoms When Confirmed                       object\n",
       "Developing Symptoms                                  object\n",
       "Underlying Health Condition                          object\n",
       "Discharged Date                                      object\n",
       "Re-Infected                                  datetime64[ns]\n",
       "Re-discharged                                datetime64[ns]\n",
       "Reference 1                                          object\n",
       "Reference 2                                          object\n",
       "Reference 3                                          object\n",
       "Reference 4                                          object\n",
       "Reference 5                                          object\n",
       "Note                                                 object\n",
       "Number of negative test before discharged            object\n",
       "dtype: object"
      ]
     },
     "execution_count": 7,
     "metadata": {},
     "output_type": "execute_result"
    }
   ],
   "source": [
    "get_df_dtypes(main_df)"
   ]
  },
  {
   "cell_type": "markdown",
   "metadata": {},
   "source": [
    "### Miền giá trị các cột numeric và datetime"
   ]
  },
  {
   "cell_type": "code",
   "execution_count": 8,
   "metadata": {},
   "outputs": [
    {
     "name": "stdout",
     "output_type": "stream",
     "text": [
      "<class 'pandas.core.frame.DataFrame'>\n",
      "RangeIndex: 288 entries, 0 to 287\n",
      "Data columns (total 30 columns):\n",
      "ID                                           288 non-null object\n",
      "Gender                                       288 non-null int32\n",
      "Age                                          288 non-null float64\n",
      "Nationality                                  288 non-null object\n",
      "Detection Location                           288 non-null object\n",
      "Treatment Location                           288 non-null object\n",
      "Hospital                                     288 non-null object\n",
      "Confirmed Date                               288 non-null datetime64[ns]\n",
      "Travel History                               288 non-null int64\n",
      "Travel Country                               184 non-null object\n",
      "Travel Country, Correct                      175 non-null object\n",
      "Source of Infection                          80 non-null object\n",
      "Relationship                                 102 non-null object\n",
      "Flight ID (Date)                             173 non-null object\n",
      "Infection Cluster                            134 non-null object\n",
      "Health Condition When Confirmed              288 non-null object\n",
      "Detail Symptoms When Confirmed (clean up)    86 non-null object\n",
      "Detail Symptoms When Confirmed               288 non-null object\n",
      "Developing Symptoms                          13 non-null object\n",
      "Underlying Health Condition                  9 non-null object\n",
      "Discharged Date                              221 non-null object\n",
      "Re-Infected                                  16 non-null datetime64[ns]\n",
      "Re-discharged                                2 non-null datetime64[ns]\n",
      "Reference 1                                  276 non-null object\n",
      "Reference 2                                  151 non-null object\n",
      "Reference 3                                  19 non-null object\n",
      "Reference 4                                  3 non-null object\n",
      "Reference 5                                  1 non-null object\n",
      "Note                                         8 non-null object\n",
      "Number of negative test before discharged    3 non-null object\n",
      "dtypes: datetime64[ns](3), float64(1), int32(1), int64(1), object(24)\n",
      "memory usage: 66.5+ KB\n"
     ]
    }
   ],
   "source": [
    "main_df.info()"
   ]
  },
  {
   "cell_type": "markdown",
   "metadata": {},
   "source": [
    "- Ta có 6 cột với 3 cột `datetime`, 2 cột `int` và 1 cột `float`. Tuy nhiên, 2 cột dữ liệu số nguyên thật ra là nhãn khác của `boolean` do hai cột này chỉ chứa hai số `0` và `1`.\n",
    "\n",
    "Ta chỉ quan tâm đến miền giá trị của các cột còn lại:"
   ]
  },
  {
   "cell_type": "code",
   "execution_count": 9,
   "metadata": {},
   "outputs": [
    {
     "data": {
      "text/html": [
       "<div>\n",
       "<style scoped>\n",
       "    .dataframe tbody tr th:only-of-type {\n",
       "        vertical-align: middle;\n",
       "    }\n",
       "\n",
       "    .dataframe tbody tr th {\n",
       "        vertical-align: top;\n",
       "    }\n",
       "\n",
       "    .dataframe thead th {\n",
       "        text-align: right;\n",
       "    }\n",
       "</style>\n",
       "<table border=\"1\" class=\"dataframe\">\n",
       "  <thead>\n",
       "    <tr style=\"text-align: right;\">\n",
       "      <th></th>\n",
       "      <th>Age</th>\n",
       "      <th>Confirmed Date</th>\n",
       "      <th>Re-Infected</th>\n",
       "      <th>Re-discharged</th>\n",
       "    </tr>\n",
       "  </thead>\n",
       "  <tbody>\n",
       "    <tr>\n",
       "      <td>min</td>\n",
       "      <td>0.25</td>\n",
       "      <td>2020-01-23</td>\n",
       "      <td>2020-04-12</td>\n",
       "      <td>2020-05-05</td>\n",
       "    </tr>\n",
       "    <tr>\n",
       "      <td>max</td>\n",
       "      <td>88.00</td>\n",
       "      <td>2020-05-07</td>\n",
       "      <td>2020-05-05</td>\n",
       "      <td>2020-05-05</td>\n",
       "    </tr>\n",
       "  </tbody>\n",
       "</table>\n",
       "</div>"
      ],
      "text/plain": [
       "       Age Confirmed Date Re-Infected Re-discharged\n",
       "min   0.25     2020-01-23  2020-04-12    2020-05-05\n",
       "max  88.00     2020-05-07  2020-05-05    2020-05-05"
      ]
     },
     "execution_count": 9,
     "metadata": {},
     "output_type": "execute_result"
    }
   ],
   "source": [
    "col_ranges_df = pd.DataFrame()\n",
    "\n",
    "cols = ['Age', 'Confirmed Date', 'Re-Infected', 'Re-discharged']\n",
    "rows = ['min', 'max']\n",
    "for col in cols:\n",
    "    col_ranges_df[col] = [main_df[col].min(), main_df[col].max()]\n",
    "\n",
    "col_ranges_df.index = rows\n",
    "col_ranges_df"
   ]
  },
  {
   "cell_type": "markdown",
   "metadata": {},
   "source": [
    "- Cột `Re-discharged` chỉ có 2 dòng khác null, và 2 dòng này đều chứa giá trị `5/5/2020`."
   ]
  },
  {
   "cell_type": "markdown",
   "metadata": {},
   "source": [
    "### Các giá trị có thể có của các cột categorical"
   ]
  },
  {
   "cell_type": "markdown",
   "metadata": {},
   "source": [
    "Trong các cột dạng categorical:\n",
    "- Cột `ID` thể hiện mã bệnh nhân.\n",
    "- Đa số các cột còn lại chứa nội dung về mặt ghi chép không nhất quán và thiếu nội dung.\n",
    "\n",
    "Do đó, ta chỉ chọn một số cột ra để xem xét các giá trị đặc trưng:"
   ]
  },
  {
   "cell_type": "code",
   "execution_count": 10,
   "metadata": {},
   "outputs": [
    {
     "data": {
      "text/html": [
       "<div>\n",
       "<style scoped>\n",
       "    .dataframe tbody tr th:only-of-type {\n",
       "        vertical-align: middle;\n",
       "    }\n",
       "\n",
       "    .dataframe tbody tr th {\n",
       "        vertical-align: top;\n",
       "    }\n",
       "\n",
       "    .dataframe thead th {\n",
       "        text-align: right;\n",
       "    }\n",
       "</style>\n",
       "<table border=\"1\" class=\"dataframe\">\n",
       "  <thead>\n",
       "    <tr style=\"text-align: right;\">\n",
       "      <th></th>\n",
       "      <th>Nationality</th>\n",
       "      <th>Detection Location</th>\n",
       "      <th>Treatment Location</th>\n",
       "      <th>Hospital</th>\n",
       "      <th>Travel Country, Correct</th>\n",
       "      <th>Infection Cluster</th>\n",
       "      <th>Health Condition When Confirmed</th>\n",
       "      <th>Underlying Health Condition</th>\n",
       "    </tr>\n",
       "  </thead>\n",
       "  <tbody>\n",
       "    <tr>\n",
       "      <td>NumUniqueVals</td>\n",
       "      <td>14</td>\n",
       "      <td>30</td>\n",
       "      <td>25</td>\n",
       "      <td>49</td>\n",
       "      <td>46</td>\n",
       "      <td>20</td>\n",
       "      <td>6</td>\n",
       "      <td>8</td>\n",
       "    </tr>\n",
       "  </tbody>\n",
       "</table>\n",
       "</div>"
      ],
      "text/plain": [
       "               Nationality  Detection Location  Treatment Location  Hospital  \\\n",
       "NumUniqueVals           14                  30                  25        49   \n",
       "\n",
       "               Travel Country, Correct  Infection Cluster  \\\n",
       "NumUniqueVals                       46                 20   \n",
       "\n",
       "               Health Condition When Confirmed  Underlying Health Condition  \n",
       "NumUniqueVals                                6                            8  "
      ]
     },
     "execution_count": 10,
     "metadata": {},
     "output_type": "execute_result"
    }
   ],
   "source": [
    "cat_col_ranges_df = pd.DataFrame()\n",
    "\n",
    "cols = ['Nationality', 'Detection Location', 'Treatment Location', \n",
    "        'Hospital', 'Travel Country, Correct', 'Infection Cluster', \n",
    "        'Health Condition When Confirmed', 'Underlying Health Condition', ]\n",
    "rows = ['NumUniqueVals']\n",
    "for col in cols:\n",
    "    temp_list = main_df[col].dropna().unique()\n",
    "   \n",
    "    cat_col_ranges_df[col] = [len(temp_list)]\n",
    "\n",
    "cat_col_ranges_df.index = rows\n",
    "cat_col_ranges_df"
   ]
  },
  {
   "cell_type": "markdown",
   "metadata": {},
   "source": [
    "---"
   ]
  },
  {
   "cell_type": "markdown",
   "metadata": {},
   "source": [
    "## Các câu hỏi cần trả lời"
   ]
  },
  {
   "cell_type": "markdown",
   "metadata": {},
   "source": [
    "Sau khi đã khám phá dữ liệu và hiểu hơn về dữ liệu, ta đặt ra các câu hỏi để trả lời:\n",
    "- Quốc tịch các người nước ngoài nhiễm bệnh tại Việt Nam? Nhận xét so với tổng số lượng bệnh nhân.  \n",
    "Ta cần theo dõi mức ảnh hưởng từ môi trường ngoài nước đến khả năng lây nhiễm dịch bệnh trong nước.\n",
    "\n",
    "\n",
    "- Số lượng ca nhiễm mỗi tháng?  \n",
    "Theo dõi tình hình lây nhiễm theo thời gian tại Việt Nam.\n",
    "\n",
    "\n",
    "- Tỉ lệ nhiễm bệnh giữa các nhóm tuổi và giới tính?  \n",
    "Tìm mối liên hệ giữa tuổi và giới tính của một người với nguy cơ nhiễm bệnh."
   ]
  },
  {
   "cell_type": "markdown",
   "metadata": {},
   "source": [
    "---"
   ]
  },
  {
   "cell_type": "markdown",
   "metadata": {},
   "source": [
    "## Tiền xử lý"
   ]
  },
  {
   "cell_type": "markdown",
   "metadata": {},
   "source": [
    "### Thêm cột 'Confirmed Month' vào dataframe"
   ]
  },
  {
   "cell_type": "markdown",
   "metadata": {},
   "source": [
    "Trong dữ liệu, ta cần rút ra tháng xác nhận nhiễm bệnh của từng bệnh nhân từ cột `Confirmed Date` chứa ngày - tháng - năm xác nhận nhiễm bệnh."
   ]
  },
  {
   "cell_type": "code",
   "execution_count": 11,
   "metadata": {},
   "outputs": [],
   "source": [
    "main_df['Confirmed Month'] = pd.DatetimeIndex(main_df['Confirmed Date']).month"
   ]
  },
  {
   "cell_type": "markdown",
   "metadata": {},
   "source": [
    "### Thêm cột 'Age Group' vào dataframe"
   ]
  },
  {
   "cell_type": "markdown",
   "metadata": {},
   "source": [
    "Để tính toán các số liệu liên quan đến tuổi tác, ta chia dữ liệu tuổi ở cột `Age` sang một cột mới tên `Age Group`, với 3 nhóm tuổi là:\n",
    "- Nhóm tuổi dưới lao động: từ sơ sinh đến 14 tuổi\n",
    "- Nhóm tuổi lao động: từ 15 -> 64 tuổi\n",
    "- Nhóm tuổi ngoài lao động: từ 65 tuổi trở lên"
   ]
  },
  {
   "cell_type": "code",
   "execution_count": 12,
   "metadata": {},
   "outputs": [],
   "source": [
    "def add_age_group(df):\n",
    "    df['Age Group'] = 0\n",
    "    \n",
    "    df.loc[df['Age'] < 15, 'Age Group'] = '0 - 14'\n",
    "    df.loc[df['Age'] >= 65, 'Age Group'] = '65+'\n",
    "    df.loc[df['Age Group'] == 0, 'Age Group']= '15 - 64'\n",
    "    \n",
    "    return df"
   ]
  },
  {
   "cell_type": "code",
   "execution_count": 13,
   "metadata": {},
   "outputs": [],
   "source": [
    "main_df = add_age_group(main_df)"
   ]
  },
  {
   "cell_type": "markdown",
   "metadata": {},
   "source": [
    "### Bảng dữ liệu mới"
   ]
  },
  {
   "cell_type": "markdown",
   "metadata": {},
   "source": [
    "Sau khi tiền xử lý, ta có bảng dữ liệu mới sau:"
   ]
  },
  {
   "cell_type": "code",
   "execution_count": 14,
   "metadata": {},
   "outputs": [
    {
     "data": {
      "text/html": [
       "<div>\n",
       "<style scoped>\n",
       "    .dataframe tbody tr th:only-of-type {\n",
       "        vertical-align: middle;\n",
       "    }\n",
       "\n",
       "    .dataframe tbody tr th {\n",
       "        vertical-align: top;\n",
       "    }\n",
       "\n",
       "    .dataframe thead th {\n",
       "        text-align: right;\n",
       "    }\n",
       "</style>\n",
       "<table border=\"1\" class=\"dataframe\">\n",
       "  <thead>\n",
       "    <tr style=\"text-align: right;\">\n",
       "      <th></th>\n",
       "      <th>ID</th>\n",
       "      <th>Gender</th>\n",
       "      <th>Age</th>\n",
       "      <th>Nationality</th>\n",
       "      <th>Detection Location</th>\n",
       "      <th>Treatment Location</th>\n",
       "      <th>Hospital</th>\n",
       "      <th>Confirmed Date</th>\n",
       "      <th>Travel History</th>\n",
       "      <th>Travel Country</th>\n",
       "      <th>...</th>\n",
       "      <th>Re-discharged</th>\n",
       "      <th>Reference 1</th>\n",
       "      <th>Reference 2</th>\n",
       "      <th>Reference 3</th>\n",
       "      <th>Reference 4</th>\n",
       "      <th>Reference 5</th>\n",
       "      <th>Note</th>\n",
       "      <th>Number of negative test before discharged</th>\n",
       "      <th>Confirmed Month</th>\n",
       "      <th>Age Group</th>\n",
       "    </tr>\n",
       "  </thead>\n",
       "  <tbody>\n",
       "    <tr>\n",
       "      <td>0</td>\n",
       "      <td>BN1</td>\n",
       "      <td>0</td>\n",
       "      <td>66.0</td>\n",
       "      <td>China</td>\n",
       "      <td>Ho Chi Minh City</td>\n",
       "      <td>Ho Chi Minh City</td>\n",
       "      <td>Bệnh viện Chợ Rẫy</td>\n",
       "      <td>2020-01-23</td>\n",
       "      <td>1</td>\n",
       "      <td>Wuhan(China)</td>\n",
       "      <td>...</td>\n",
       "      <td>NaT</td>\n",
       "      <td>https://vnexpress.net/dich-viem-phoi-corona/ha...</td>\n",
       "      <td>NaN</td>\n",
       "      <td>NaN</td>\n",
       "      <td>NaN</td>\n",
       "      <td>NaN</td>\n",
       "      <td>NaN</td>\n",
       "      <td>NaN</td>\n",
       "      <td>1</td>\n",
       "      <td>65+</td>\n",
       "    </tr>\n",
       "    <tr>\n",
       "      <td>1</td>\n",
       "      <td>BN2</td>\n",
       "      <td>0</td>\n",
       "      <td>28.0</td>\n",
       "      <td>China</td>\n",
       "      <td>Ho Chi Minh City</td>\n",
       "      <td>Ho Chi Minh City</td>\n",
       "      <td>Bệnh viện Chợ Rẫy</td>\n",
       "      <td>2020-01-23</td>\n",
       "      <td>0</td>\n",
       "      <td>NaN</td>\n",
       "      <td>...</td>\n",
       "      <td>NaT</td>\n",
       "      <td>NaN</td>\n",
       "      <td>NaN</td>\n",
       "      <td>NaN</td>\n",
       "      <td>NaN</td>\n",
       "      <td>NaN</td>\n",
       "      <td>NaN</td>\n",
       "      <td>NaN</td>\n",
       "      <td>1</td>\n",
       "      <td>15 - 64</td>\n",
       "    </tr>\n",
       "    <tr>\n",
       "      <td>2</td>\n",
       "      <td>BN3</td>\n",
       "      <td>1</td>\n",
       "      <td>25.0</td>\n",
       "      <td>Vietnam</td>\n",
       "      <td>Thanh Hoa</td>\n",
       "      <td>Thanh Hoa</td>\n",
       "      <td>Bệnh viện đa khoa tỉnh Thanh Hóa</td>\n",
       "      <td>2020-01-30</td>\n",
       "      <td>1</td>\n",
       "      <td>Wuhan(China)</td>\n",
       "      <td>...</td>\n",
       "      <td>NaT</td>\n",
       "      <td>https://vnexpress.net/dich-viem-phoi-corona/ba...</td>\n",
       "      <td>NaN</td>\n",
       "      <td>NaN</td>\n",
       "      <td>NaN</td>\n",
       "      <td>NaN</td>\n",
       "      <td>NaN</td>\n",
       "      <td>NaN</td>\n",
       "      <td>1</td>\n",
       "      <td>15 - 64</td>\n",
       "    </tr>\n",
       "    <tr>\n",
       "      <td>3</td>\n",
       "      <td>BN4</td>\n",
       "      <td>0</td>\n",
       "      <td>29.0</td>\n",
       "      <td>Vietnam</td>\n",
       "      <td>Vinh Phuc</td>\n",
       "      <td>Vinh Phuc</td>\n",
       "      <td>Bệnh viện Bệnh Nhiệt đới Trung Ương (cơ sở Đôn...</td>\n",
       "      <td>2020-01-30</td>\n",
       "      <td>1</td>\n",
       "      <td>Wuhan(China)</td>\n",
       "      <td>...</td>\n",
       "      <td>NaT</td>\n",
       "      <td>https://vnexpress.net/dich-viem-phoi-corona/ba...</td>\n",
       "      <td>https://vnexpress.net/suc-khoe/hai-benh-nhan-c...</td>\n",
       "      <td>https://bnews.vn/dich-do-virus-corona-them-2-b...</td>\n",
       "      <td>NaN</td>\n",
       "      <td>NaN</td>\n",
       "      <td>NaN</td>\n",
       "      <td>NaN</td>\n",
       "      <td>1</td>\n",
       "      <td>15 - 64</td>\n",
       "    </tr>\n",
       "    <tr>\n",
       "      <td>4</td>\n",
       "      <td>BN5</td>\n",
       "      <td>1</td>\n",
       "      <td>23.0</td>\n",
       "      <td>Vietnam</td>\n",
       "      <td>Vinh Phuc</td>\n",
       "      <td>Vinh Phuc</td>\n",
       "      <td>Bệnh viện Bệnh nhiệt đới Trung Ương (cơ sở 2)</td>\n",
       "      <td>2020-01-30</td>\n",
       "      <td>1</td>\n",
       "      <td>Wuhan(China)</td>\n",
       "      <td>...</td>\n",
       "      <td>NaT</td>\n",
       "      <td>https://vnexpress.net/dich-viem-phoi-corona/ba...</td>\n",
       "      <td>NaN</td>\n",
       "      <td>NaN</td>\n",
       "      <td>NaN</td>\n",
       "      <td>NaN</td>\n",
       "      <td>NaN</td>\n",
       "      <td>NaN</td>\n",
       "      <td>1</td>\n",
       "      <td>15 - 64</td>\n",
       "    </tr>\n",
       "  </tbody>\n",
       "</table>\n",
       "<p>5 rows × 32 columns</p>\n",
       "</div>"
      ],
      "text/plain": [
       "    ID  Gender   Age Nationality Detection Location Treatment Location  \\\n",
       "0  BN1       0  66.0       China   Ho Chi Minh City   Ho Chi Minh City   \n",
       "1  BN2       0  28.0       China   Ho Chi Minh City   Ho Chi Minh City   \n",
       "2  BN3       1  25.0     Vietnam          Thanh Hoa          Thanh Hoa   \n",
       "3  BN4       0  29.0     Vietnam          Vinh Phuc          Vinh Phuc   \n",
       "4  BN5       1  23.0     Vietnam          Vinh Phuc          Vinh Phuc   \n",
       "\n",
       "                                            Hospital Confirmed Date  \\\n",
       "0                                  Bệnh viện Chợ Rẫy     2020-01-23   \n",
       "1                                  Bệnh viện Chợ Rẫy     2020-01-23   \n",
       "2                   Bệnh viện đa khoa tỉnh Thanh Hóa     2020-01-30   \n",
       "3  Bệnh viện Bệnh Nhiệt đới Trung Ương (cơ sở Đôn...     2020-01-30   \n",
       "4      Bệnh viện Bệnh nhiệt đới Trung Ương (cơ sở 2)     2020-01-30   \n",
       "\n",
       "   Travel History Travel Country  ... Re-discharged  \\\n",
       "0               1   Wuhan(China)  ...           NaT   \n",
       "1               0            NaN  ...           NaT   \n",
       "2               1   Wuhan(China)  ...           NaT   \n",
       "3               1   Wuhan(China)  ...           NaT   \n",
       "4               1   Wuhan(China)  ...           NaT   \n",
       "\n",
       "                                         Reference 1  \\\n",
       "0  https://vnexpress.net/dich-viem-phoi-corona/ha...   \n",
       "1                                                NaN   \n",
       "2  https://vnexpress.net/dich-viem-phoi-corona/ba...   \n",
       "3  https://vnexpress.net/dich-viem-phoi-corona/ba...   \n",
       "4  https://vnexpress.net/dich-viem-phoi-corona/ba...   \n",
       "\n",
       "                                         Reference 2  \\\n",
       "0                                                NaN   \n",
       "1                                                NaN   \n",
       "2                                                NaN   \n",
       "3  https://vnexpress.net/suc-khoe/hai-benh-nhan-c...   \n",
       "4                                                NaN   \n",
       "\n",
       "                                         Reference 3 Reference 4 Reference 5  \\\n",
       "0                                                NaN         NaN         NaN   \n",
       "1                                                NaN         NaN         NaN   \n",
       "2                                                NaN         NaN         NaN   \n",
       "3  https://bnews.vn/dich-do-virus-corona-them-2-b...         NaN         NaN   \n",
       "4                                                NaN         NaN         NaN   \n",
       "\n",
       "  Note Number of negative test before discharged Confirmed Month Age Group  \n",
       "0  NaN                                       NaN               1       65+  \n",
       "1  NaN                                       NaN               1   15 - 64  \n",
       "2  NaN                                       NaN               1   15 - 64  \n",
       "3  NaN                                       NaN               1   15 - 64  \n",
       "4  NaN                                       NaN               1   15 - 64  \n",
       "\n",
       "[5 rows x 32 columns]"
      ]
     },
     "execution_count": 14,
     "metadata": {},
     "output_type": "execute_result"
    }
   ],
   "source": [
    "main_df.head()"
   ]
  },
  {
   "cell_type": "markdown",
   "metadata": {},
   "source": [
    "---"
   ]
  },
  {
   "cell_type": "markdown",
   "metadata": {},
   "source": [
    "## Style biểu đồ"
   ]
  },
  {
   "cell_type": "code",
   "execution_count": 15,
   "metadata": {},
   "outputs": [],
   "source": [
    "plt.style.use('seaborn')"
   ]
  },
  {
   "cell_type": "markdown",
   "metadata": {},
   "source": [
    "## Phân tích dữ liệu để trả lời cho các câu hỏi "
   ]
  },
  {
   "cell_type": "markdown",
   "metadata": {},
   "source": [
    "### Quốc tịch các người nước ngoài nhiễm bệnh tại Việt Nam? Nhận xét so với tổng số lượng bệnh nhân."
   ]
  },
  {
   "cell_type": "markdown",
   "metadata": {},
   "source": [
    "Ta tách dữ liệu chính thành 2 phần:\n",
    "- Các ca nhiễm quốc tịch Việt Nam, lưu dưới tên `vn_patient`.\n",
    "- Các ca nhiễm là người nước ngoài, lưu dưới tên `fr_patient`."
   ]
  },
  {
   "cell_type": "code",
   "execution_count": 16,
   "metadata": {},
   "outputs": [],
   "source": [
    "vn_patient = main_df[main_df['Nationality'] == 'Vietnam']\n",
    "fr_patient = main_df[main_df['Nationality'] != 'Vietnam']"
   ]
  },
  {
   "cell_type": "markdown",
   "metadata": {},
   "source": [
    "Ta xem xét số lượng các quốc tịch nước ngoài của các bệnh nhân thông qua biểu đồ cột:"
   ]
  },
  {
   "cell_type": "code",
   "execution_count": 24,
   "metadata": {},
   "outputs": [
    {
     "data": {
      "image/png": "[encoded data removed]",
      "text/plain": [
       "<Figure size 1080x576 with 1 Axes>"
      ]
     },
     "metadata": {},
     "output_type": "display_data"
    }
   ],
   "source": [
    "fr_patient_count = fr_patient.groupby('Nationality')['ID'].count().sort_values()\n",
    "\n",
    "ax = fr_patient_count.plot.barh(figsize=(15, 8))\n",
    "ax.set_xticks(range(fr_patient_count.min(), fr_patient_count.max() + 1))\n",
    "ax.set_xlabel('Patient Count')\n",
    "ax.set_title('Foreign Nationatily Count', fontsize=15)\n",
    "plt.show()"
   ]
  },
  {
   "cell_type": "markdown",
   "metadata": {},
   "source": [
    "Từ biểu đồ trên, ta rút ra các nhận xét sau:\n",
    "- Bệnh nhân ngoài nước có quốc tịch từ khắp thế giới, đến từ cả Châu Mỹ, Châu Âu và Châu Phi.\n",
    "- Trong đó, có rất nhiều quốc tịch ở các nước Châu Âu như Anh, Đức, Pháp, Thụy Điển, Latvia, Ireland, Đan Mạch và Cezchia, với đa số là người Anh."
   ]
  },
  {
   "cell_type": "markdown",
   "metadata": {},
   "source": [
    "Để xem xét kĩ hơn, ta thực hiện so sánh số bệnh nhân ngoài nước và trong nước."
   ]
  },
  {
   "cell_type": "code",
   "execution_count": 20,
   "metadata": {},
   "outputs": [],
   "source": [
    "vn_patient_count = vn_patient.groupby('Nationality')['ID'].count()\n",
    "\n",
    "nationatily_df = pd.DataFrame(index=['Vietnamese', 'Foreigners'])\n",
    "total = sum(vn_patient_count) + sum(fr_patient_count)\n",
    "nationatily_df['%'] = [sum(vn_patient_count) / total, sum(fr_patient_count) / total]"
   ]
  },
  {
   "cell_type": "markdown",
   "metadata": {},
   "source": [
    "Ta có bảng số liệu mới sau khi thực hiện tính toán sau, với cột `Patient Count` ứng với số bệnh nhân và hai dòng có tên tương ứng cho hai loại bệnh nhân:"
   ]
  },
  {
   "cell_type": "code",
   "execution_count": 21,
   "metadata": {},
   "outputs": [
    {
     "data": {
      "text/html": [
       "<div>\n",
       "<style scoped>\n",
       "    .dataframe tbody tr th:only-of-type {\n",
       "        vertical-align: middle;\n",
       "    }\n",
       "\n",
       "    .dataframe tbody tr th {\n",
       "        vertical-align: top;\n",
       "    }\n",
       "\n",
       "    .dataframe thead th {\n",
       "        text-align: right;\n",
       "    }\n",
       "</style>\n",
       "<table border=\"1\" class=\"dataframe\">\n",
       "  <thead>\n",
       "    <tr style=\"text-align: right;\">\n",
       "      <th></th>\n",
       "      <th>%</th>\n",
       "    </tr>\n",
       "  </thead>\n",
       "  <tbody>\n",
       "    <tr>\n",
       "      <td>Vietnamese</td>\n",
       "      <td>0.822917</td>\n",
       "    </tr>\n",
       "    <tr>\n",
       "      <td>Foreigners</td>\n",
       "      <td>0.177083</td>\n",
       "    </tr>\n",
       "  </tbody>\n",
       "</table>\n",
       "</div>"
      ],
      "text/plain": [
       "                   %\n",
       "Vietnamese  0.822917\n",
       "Foreigners  0.177083"
      ]
     },
     "execution_count": 21,
     "metadata": {},
     "output_type": "execute_result"
    }
   ],
   "source": [
    "nationatily_df"
   ]
  },
  {
   "cell_type": "code",
   "execution_count": 26,
   "metadata": {},
   "outputs": [
    {
     "data": {
      "image/png": "[encoded data removed]",
      "text/plain": [
       "<Figure size 576x216 with 1 Axes>"
      ]
     },
     "metadata": {},
     "output_type": "display_data"
    }
   ],
   "source": [
    "ax = nationatily_df.plot.barh(figsize=(8, 3))\n",
    "ax.set_xlim([0, 1])\n",
    "ax.set_xlabel('Patient Ratio')\n",
    "ax.set_title('Patient Nationality Ratio in Vietnam', fontsize=15)\n",
    "plt.show()"
   ]
  },
  {
   "cell_type": "markdown",
   "metadata": {},
   "source": [
    "Gần 20% số bệnh nhân tại Việt Nam là người nước ngoài. Nhìn chung, đây là một con số không đáng kể, nhưng nếu nói về tình hình kiểm soát dịch bệnh thì việc tìm và quản lý các ca nhiễm đến từ ngoài nước là vô cùng khó khăn với con số 1 trong 5 bệnh nhân là người nước ngoài."
   ]
  },
  {
   "cell_type": "code",
   "execution_count": null,
   "metadata": {},
   "outputs": [],
   "source": []
  }
 ],
 "metadata": {
  "kernelspec": {
   "display_name": "Python 3",
   "language": "python",
   "name": "python3"
  },
  "language_info": {
   "codemirror_mode": {
    "name": "ipython",
    "version": 3
   },
   "file_extension": ".py",
   "mimetype": "text/x-python",
   "name": "python",
   "nbconvert_exporter": "python",
   "pygments_lexer": "ipython3",
   "version": "3.7.4"
  }
 },
 "nbformat": 4,
 "nbformat_minor": 2
}
