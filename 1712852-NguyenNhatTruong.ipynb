{
 "cells": [
  {
   "cell_type": "markdown",
   "metadata": {},
   "source": [
    "Lớp **Lập trình cho Khoa học dữ liệu - 17/21**  \n",
    "Học kì II, 2019 - 2020"
   ]
  },
  {
   "cell_type": "markdown",
   "metadata": {},
   "source": [
    "---"
   ]
  },
  {
   "cell_type": "markdown",
   "metadata": {},
   "source": [
    "<br>\n",
    "<center><b><font size=\"10\">ĐỒ ÁN CUỐI KÌ</font></b></center>\n",
    "\n",
    "**Họ tên:** Nguyễn Nhật Trường\n",
    "\n",
    "**MSSV:** 1712852"
   ]
  },
  {
   "cell_type": "markdown",
   "metadata": {},
   "source": [
    "---"
   ]
  },
  {
   "cell_type": "markdown",
   "metadata": {},
   "source": [
    "## Import"
   ]
  },
  {
   "cell_type": "code",
   "execution_count": 1,
   "metadata": {},
   "outputs": [],
   "source": [
    "%matplotlib inline\n",
    "import matplotlib.pyplot as plt\n",
    "import pandas as pd\n",
    "import numpy as np"
   ]
  },
  {
   "cell_type": "markdown",
   "metadata": {},
   "source": [
    "---"
   ]
  },
  {
   "cell_type": "markdown",
   "metadata": {},
   "source": [
    "## Lấy dữ liệu"
   ]
  },
  {
   "cell_type": "markdown",
   "metadata": {},
   "source": [
    "Dữ liệu được dùng trong đồ án có nguồn tại đây: [Vietnam COVID-19 patient dataset](https://www.kaggle.com/nhntran/vietnam-covid19-patient-dataset) trên Kaggle. Trong đó, file dữ liệu chính được sử dụng là file *\\\"Vietnam_COVID-19_patient_data_May10_2020.csv\\\"*, ghi nhận thông tin của các bệnh nhân nhiễm COVID-19 tại Việt Nam. Dữ liệu được cập nhật lần cuối vào ngày 10/05/2020.\n",
    "\n",
    "Theo lời tác giả, đây là công trình cá nhân và toàn bộ dữ liệu được thu thập thông qua website chính thức của Bộ Y tế (https://ncov.moh.gov.vn/) và truyền thông Việt Nam."
   ]
  },
  {
   "cell_type": "markdown",
   "metadata": {},
   "source": [
    "---"
   ]
  },
  {
   "cell_type": "markdown",
   "metadata": {},
   "source": [
    "## Khám phá dữ liệu"
   ]
  },
  {
   "cell_type": "markdown",
   "metadata": {},
   "source": [
    "### Đọc dữ liệu từ file csv vào dataframe"
   ]
  },
  {
   "cell_type": "code",
   "execution_count": 2,
   "metadata": {},
   "outputs": [
    {
     "data": {
      "text/html": [
       "<div>\n",
       "<style scoped>\n",
       "    .dataframe tbody tr th:only-of-type {\n",
       "        vertical-align: middle;\n",
       "    }\n",
       "\n",
       "    .dataframe tbody tr th {\n",
       "        vertical-align: top;\n",
       "    }\n",
       "\n",
       "    .dataframe thead th {\n",
       "        text-align: right;\n",
       "    }\n",
       "</style>\n",
       "<table border=\"1\" class=\"dataframe\">\n",
       "  <thead>\n",
       "    <tr style=\"text-align: right;\">\n",
       "      <th></th>\n",
       "      <th>ID</th>\n",
       "      <th>Gender</th>\n",
       "      <th>Age</th>\n",
       "      <th>Nationality</th>\n",
       "      <th>Detection Location</th>\n",
       "      <th>Treatment Location</th>\n",
       "      <th>Hospital</th>\n",
       "      <th>Confirmed Date</th>\n",
       "      <th>Travel History</th>\n",
       "      <th>Travel Country</th>\n",
       "      <th>...</th>\n",
       "      <th>Discharged Date</th>\n",
       "      <th>Re-Infected</th>\n",
       "      <th>Re-discharged</th>\n",
       "      <th>Reference 1</th>\n",
       "      <th>Reference 2</th>\n",
       "      <th>Reference 3</th>\n",
       "      <th>Reference 4</th>\n",
       "      <th>Reference 5</th>\n",
       "      <th>Note</th>\n",
       "      <th>Number of negative test before discharged</th>\n",
       "    </tr>\n",
       "  </thead>\n",
       "  <tbody>\n",
       "    <tr>\n",
       "      <td>0</td>\n",
       "      <td>BN1</td>\n",
       "      <td>M</td>\n",
       "      <td>66.0</td>\n",
       "      <td>China</td>\n",
       "      <td>Ho Chi Minh City</td>\n",
       "      <td>Ho Chi Minh City</td>\n",
       "      <td>Bệnh viện Chợ Rẫy</td>\n",
       "      <td>1/23/20</td>\n",
       "      <td>1</td>\n",
       "      <td>Wuhan(China)</td>\n",
       "      <td>...</td>\n",
       "      <td>2/12/20</td>\n",
       "      <td>NaN</td>\n",
       "      <td>NaN</td>\n",
       "      <td>https://vnexpress.net/dich-viem-phoi-corona/ha...</td>\n",
       "      <td>NaN</td>\n",
       "      <td>NaN</td>\n",
       "      <td>NaN</td>\n",
       "      <td>NaN</td>\n",
       "      <td>NaN</td>\n",
       "      <td>NaN</td>\n",
       "    </tr>\n",
       "    <tr>\n",
       "      <td>1</td>\n",
       "      <td>BN2</td>\n",
       "      <td>M</td>\n",
       "      <td>28.0</td>\n",
       "      <td>China</td>\n",
       "      <td>Ho Chi Minh City</td>\n",
       "      <td>Ho Chi Minh City</td>\n",
       "      <td>Bệnh viện Chợ Rẫy</td>\n",
       "      <td>1/23/20</td>\n",
       "      <td>0</td>\n",
       "      <td>NaN</td>\n",
       "      <td>...</td>\n",
       "      <td>2/4/20</td>\n",
       "      <td>NaN</td>\n",
       "      <td>NaN</td>\n",
       "      <td>NaN</td>\n",
       "      <td>NaN</td>\n",
       "      <td>NaN</td>\n",
       "      <td>NaN</td>\n",
       "      <td>NaN</td>\n",
       "      <td>NaN</td>\n",
       "      <td>NaN</td>\n",
       "    </tr>\n",
       "    <tr>\n",
       "      <td>2</td>\n",
       "      <td>BN3</td>\n",
       "      <td>F</td>\n",
       "      <td>25.0</td>\n",
       "      <td>Vietnam</td>\n",
       "      <td>Thanh Hoa</td>\n",
       "      <td>Thanh Hoa</td>\n",
       "      <td>Bệnh viện đa khoa tỉnh Thanh Hóa</td>\n",
       "      <td>1/30/20</td>\n",
       "      <td>1</td>\n",
       "      <td>Wuhan(China)</td>\n",
       "      <td>...</td>\n",
       "      <td>(Feb 2020, no exact date)</td>\n",
       "      <td>NaN</td>\n",
       "      <td>NaN</td>\n",
       "      <td>https://vnexpress.net/dich-viem-phoi-corona/ba...</td>\n",
       "      <td>NaN</td>\n",
       "      <td>NaN</td>\n",
       "      <td>NaN</td>\n",
       "      <td>NaN</td>\n",
       "      <td>NaN</td>\n",
       "      <td>NaN</td>\n",
       "    </tr>\n",
       "    <tr>\n",
       "      <td>3</td>\n",
       "      <td>BN4</td>\n",
       "      <td>M</td>\n",
       "      <td>29.0</td>\n",
       "      <td>Vietnam</td>\n",
       "      <td>Vinh Phuc</td>\n",
       "      <td>Vinh Phuc</td>\n",
       "      <td>Bệnh viện Bệnh Nhiệt đới Trung Ương (cơ sở Đôn...</td>\n",
       "      <td>1/30/20</td>\n",
       "      <td>1</td>\n",
       "      <td>Wuhan(China)</td>\n",
       "      <td>...</td>\n",
       "      <td>2/18/20</td>\n",
       "      <td>NaN</td>\n",
       "      <td>NaN</td>\n",
       "      <td>https://vnexpress.net/dich-viem-phoi-corona/ba...</td>\n",
       "      <td>https://vnexpress.net/suc-khoe/hai-benh-nhan-c...</td>\n",
       "      <td>https://bnews.vn/dich-do-virus-corona-them-2-b...</td>\n",
       "      <td>NaN</td>\n",
       "      <td>NaN</td>\n",
       "      <td>NaN</td>\n",
       "      <td>NaN</td>\n",
       "    </tr>\n",
       "    <tr>\n",
       "      <td>4</td>\n",
       "      <td>BN5</td>\n",
       "      <td>F</td>\n",
       "      <td>23.0</td>\n",
       "      <td>Vietnam</td>\n",
       "      <td>Vinh Phuc</td>\n",
       "      <td>Vinh Phuc</td>\n",
       "      <td>Bệnh viện Bệnh nhiệt đới Trung Ương (cơ sở 2)</td>\n",
       "      <td>1/30/20</td>\n",
       "      <td>1</td>\n",
       "      <td>Wuhan(China)</td>\n",
       "      <td>...</td>\n",
       "      <td>2/10/20</td>\n",
       "      <td>NaN</td>\n",
       "      <td>NaN</td>\n",
       "      <td>https://vnexpress.net/dich-viem-phoi-corona/ba...</td>\n",
       "      <td>NaN</td>\n",
       "      <td>NaN</td>\n",
       "      <td>NaN</td>\n",
       "      <td>NaN</td>\n",
       "      <td>NaN</td>\n",
       "      <td>NaN</td>\n",
       "    </tr>\n",
       "  </tbody>\n",
       "</table>\n",
       "<p>5 rows × 30 columns</p>\n",
       "</div>"
      ],
      "text/plain": [
       "    ID Gender   Age Nationality Detection Location Treatment Location  \\\n",
       "0  BN1      M  66.0       China   Ho Chi Minh City   Ho Chi Minh City   \n",
       "1  BN2      M  28.0       China   Ho Chi Minh City   Ho Chi Minh City   \n",
       "2  BN3      F  25.0     Vietnam          Thanh Hoa          Thanh Hoa   \n",
       "3  BN4      M  29.0     Vietnam          Vinh Phuc          Vinh Phuc   \n",
       "4  BN5      F  23.0     Vietnam          Vinh Phuc          Vinh Phuc   \n",
       "\n",
       "                                            Hospital Confirmed Date  \\\n",
       "0                                  Bệnh viện Chợ Rẫy        1/23/20   \n",
       "1                                  Bệnh viện Chợ Rẫy        1/23/20   \n",
       "2                   Bệnh viện đa khoa tỉnh Thanh Hóa        1/30/20   \n",
       "3  Bệnh viện Bệnh Nhiệt đới Trung Ương (cơ sở Đôn...        1/30/20   \n",
       "4      Bệnh viện Bệnh nhiệt đới Trung Ương (cơ sở 2)        1/30/20   \n",
       "\n",
       "   Travel History Travel Country  ...            Discharged Date Re-Infected  \\\n",
       "0               1   Wuhan(China)  ...                    2/12/20         NaN   \n",
       "1               0            NaN  ...                     2/4/20         NaN   \n",
       "2               1   Wuhan(China)  ...  (Feb 2020, no exact date)         NaN   \n",
       "3               1   Wuhan(China)  ...                    2/18/20         NaN   \n",
       "4               1   Wuhan(China)  ...                    2/10/20         NaN   \n",
       "\n",
       "  Re-discharged                                        Reference 1  \\\n",
       "0           NaN  https://vnexpress.net/dich-viem-phoi-corona/ha...   \n",
       "1           NaN                                                NaN   \n",
       "2           NaN  https://vnexpress.net/dich-viem-phoi-corona/ba...   \n",
       "3           NaN  https://vnexpress.net/dich-viem-phoi-corona/ba...   \n",
       "4           NaN  https://vnexpress.net/dich-viem-phoi-corona/ba...   \n",
       "\n",
       "                                         Reference 2  \\\n",
       "0                                                NaN   \n",
       "1                                                NaN   \n",
       "2                                                NaN   \n",
       "3  https://vnexpress.net/suc-khoe/hai-benh-nhan-c...   \n",
       "4                                                NaN   \n",
       "\n",
       "                                         Reference 3 Reference 4 Reference 5  \\\n",
       "0                                                NaN         NaN         NaN   \n",
       "1                                                NaN         NaN         NaN   \n",
       "2                                                NaN         NaN         NaN   \n",
       "3  https://bnews.vn/dich-do-virus-corona-them-2-b...         NaN         NaN   \n",
       "4                                                NaN         NaN         NaN   \n",
       "\n",
       "  Note Number of negative test before discharged  \n",
       "0  NaN                                       NaN  \n",
       "1  NaN                                       NaN  \n",
       "2  NaN                                       NaN  \n",
       "3  NaN                                       NaN  \n",
       "4  NaN                                       NaN  \n",
       "\n",
       "[5 rows x 30 columns]"
      ]
     },
     "execution_count": 2,
     "metadata": {},
     "output_type": "execute_result"
    }
   ],
   "source": [
    "main_df = pd.read_csv(\"Vietnam_COVID-19_patient_data_May10_2020.csv\")\n",
    "main_df.head()"
   ]
  },
  {
   "cell_type": "markdown",
   "metadata": {},
   "source": [
    "### Số dòng và số cột của dữ liệu"
   ]
  },
  {
   "cell_type": "markdown",
   "metadata": {},
   "source": [
    "Số dòng và số cột của dữ liệu sẽ được tính và lưu vào hai biến `num_rows` và `num_cols`."
   ]
  },
  {
   "cell_type": "code",
   "execution_count": 3,
   "metadata": {},
   "outputs": [
    {
     "name": "stdout",
     "output_type": "stream",
     "text": [
      "So dong: 288\n",
      "So cot: 30\n"
     ]
    }
   ],
   "source": [
    "num_rows = len(main_df)\n",
    "num_cols = len(main_df.columns)\n",
    "\n",
    "print('So dong: %d\\nSo cot: %d' %(num_rows, num_cols))"
   ]
  },
  {
   "cell_type": "markdown",
   "metadata": {},
   "source": [
    "### Ý nghĩa mỗi dòng và mỗi cột"
   ]
  },
  {
   "cell_type": "markdown",
   "metadata": {},
   "source": [
    "Dựa theo tên các cột dữ liệu, ta rút được các mô tả:\n",
    "- **ID**: mã số bệnh nhân.\n",
    "- **Gender**: giới tính bệnh nhân.\n",
    "- **Age**: tuổi bệnh nhân (tính đến ngày cuối tác giả cập nhật dữ liệu).\n",
    "- **Nationality**: quốc tịch bệnh nhân.\n",
    "- **Detection Location**: tỉnh/thành phố trực thuộc trung ương phát hiện bệnh nhân nhiễm bệnh.\n",
    "- **Treatment Location**: tỉnh/thành phố trực thuộc trung ương điều trị bệnh nhân.\n",
    "- **Hospital**: tên bệnh viện điều trị.\n",
    "- **Confirmed Date**: ngày xác nhận bệnh nhân nhiễm bệnh.\n",
    "- **Travel History**: bệnh nhân có hoặc không di chuyển/du lịch.\n",
    "- **Travel Country** & **Travel Country, Correct**: các quốc gia/khu vực bệnh nhân từng đi qua.\n",
    "- **Source of Infection**: nguồn lây nhiễm (từ bệnh nhân nào và cấp lây nhiễm).\n",
    "- **Relationship**: mối quan hệ với nguồn lây nhiễm (với bệnh nhân lây bệnh).\n",
    "- **Flight ID (Date)**: số hiệu chuyến bay của bệnh nhân.\n",
    "- **Infection Cluster**: khu vực bệnh nhân lây nhiễm.\n",
    "- **Health Condition When Confirmed**: tình trạng sức khỏe bệnh nhân khi xác nhận nhiễm bệnh.\n",
    "- **Detail Symptoms When Confirmed (clean up)** & **Detail Symptoms When Confirmed**: triệu chứng đã có khi xác nhận nhiễm.\n",
    "- **Developing Symptoms**: các triệu chứng xuất hiện thêm.\n",
    "- **Underlying Health Condition**: tiền sử bệnh của bệnh nhân.\n",
    "- **Discharged Date**: ngày bệnh nhân xuất viện.\n",
    "- **Re-Infected**: ngày bệnh nhân tái nhiễm.\n",
    "- **Re-discharged**: ngày bênh nhân xuất viện sau khi tái nhiễm.\n",
    "- **Reference 1**, **Reference 2**,... **Reference 5**: nguồn đưa tin xác nhận bệnh nhân nhiễm bệnh.\n",
    "- **Note**: ghi chú thêm.\n",
    "- **Number of negative test before discharged**: số phép thử âm tính trước khi bệnh nhân được xuất viện."
   ]
  },
  {
   "cell_type": "markdown",
   "metadata": {},
   "source": [
    "### Kiểu dữ liệu mỗi cột"
   ]
  },
  {
   "cell_type": "code",
   "execution_count": 4,
   "metadata": {},
   "outputs": [
    {
     "data": {
      "text/plain": [
       "ID                                            object\n",
       "Gender                                        object\n",
       "Age                                          float64\n",
       "Nationality                                   object\n",
       "Detection Location                            object\n",
       "Treatment Location                            object\n",
       "Hospital                                      object\n",
       "Confirmed Date                                object\n",
       "Travel History                                 int64\n",
       "Travel Country                                object\n",
       "Travel Country, Correct                       object\n",
       "Source of Infection                           object\n",
       "Relationship                                  object\n",
       "Flight ID (Date)                              object\n",
       "Infection Cluster                             object\n",
       "Health Condition When Confirmed               object\n",
       "Detail Symptoms When Confirmed (clean up)     object\n",
       "Detail Symptoms When Confirmed                object\n",
       "Developing Symptoms                           object\n",
       "Underlying Health Condition                   object\n",
       "Discharged Date                               object\n",
       "Re-Infected                                   object\n",
       "Re-discharged                                 object\n",
       "Reference 1                                   object\n",
       "Reference 2                                   object\n",
       "Reference 3                                   object\n",
       "Reference 4                                   object\n",
       "Reference 5                                   object\n",
       "Note                                          object\n",
       "Number of negative test before discharged     object\n",
       "dtype: object"
      ]
     },
     "execution_count": 4,
     "metadata": {},
     "output_type": "execute_result"
    }
   ],
   "source": [
    "col_dtypes = main_df.dtypes\n",
    "\n",
    "col_dtypes"
   ]
  },
  {
   "cell_type": "markdown",
   "metadata": {},
   "source": [
    "---"
   ]
  },
  {
   "cell_type": "markdown",
   "metadata": {},
   "source": [
    "## Tiền xử lý"
   ]
  },
  {
   "cell_type": "code",
   "execution_count": null,
   "metadata": {},
   "outputs": [],
   "source": []
  }
 ],
 "metadata": {
  "kernelspec": {
   "display_name": "Python 3",
   "language": "python",
   "name": "python3"
  },
  "language_info": {
   "codemirror_mode": {
    "name": "ipython",
    "version": 3
   },
   "file_extension": ".py",
   "mimetype": "text/x-python",
   "name": "python",
   "nbconvert_exporter": "python",
   "pygments_lexer": "ipython3",
   "version": "3.7.4"
  }
 },
 "nbformat": 4,
 "nbformat_minor": 2
}
